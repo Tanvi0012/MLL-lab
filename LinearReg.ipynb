{
 "cells": [
  {
   "cell_type": "code",
   "execution_count": 16,
   "id": "d28036bb-7e6d-411b-9c00-180ebe28f5d6",
   "metadata": {},
   "outputs": [
    {
     "name": "stdout",
     "output_type": "stream",
     "text": [
      "Equation of line: y = -4.07x + 93.97\n"
     ]
    },
    {
     "name": "stdin",
     "output_type": "stream",
     "text": [
      "Enter number of TV hours: 9\n"
     ]
    },
    {
     "name": "stdout",
     "output_type": "stream",
     "text": [
      "Predicted Marks for 9 hours of TV watching: 57.36\n"
     ]
    }
   ],
   "source": [
    "Hours = [0,1,2,3,3,5,5,5,6,7,7,10]\n",
    "Marks = [96,85,82,74,95,68,76,84,58,65,75,50]\n",
    "n = len(Hours)\n",
    "sum_x = sum(Hours)\n",
    "sum_y = sum(Marks)\n",
    "sum_x2 = sum([x**2 for x in Hours])\n",
    "sum_xy = sum([Hours[i]*Marks[i] \n",
    "for i in range(n)])\n",
    "m = (n*sum_xy - sum_x*sum_y) / (n*sum_x2 - sum_x**2)\n",
    "c = (sum_y/n) - m*(sum_x/n)\n",
    "print(f\"Equation of line: y = {m:.2f}x + {c:.2f}\")\n",
    "h = int(input(\"Enter number of TV hours:\"))\n",
    "predicted=m*h+c\n",
    "print(f\"Predicted Marks for {h} hours of TV watching: {predicted:.2f}\")"
   ]
  },
  {
   "cell_type": "code",
   "execution_count": null,
   "id": "496177f3-36c2-4008-82ab-9ba060a8a3eb",
   "metadata": {},
   "outputs": [],
   "source": []
  }
 ],
 "metadata": {
  "kernelspec": {
   "display_name": "Python 3 (ipykernel)",
   "language": "python",
   "name": "python3"
  },
  "language_info": {
   "codemirror_mode": {
    "name": "ipython",
    "version": 3
   },
   "file_extension": ".py",
   "mimetype": "text/x-python",
   "name": "python",
   "nbconvert_exporter": "python",
   "pygments_lexer": "ipython3",
   "version": "3.13.5"
  }
 },
 "nbformat": 4,
 "nbformat_minor": 5
}
